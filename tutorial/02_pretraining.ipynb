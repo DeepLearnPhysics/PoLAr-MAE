{
 "cells": [
  {
   "cell_type": "markdown",
   "metadata": {},
   "source": [
    "I assume you have already run `00_dataset.ipynb` and `01_tokenization.ipynb` and have the dataset format/tokenization scheme understood."
   ]
  },
  {
   "cell_type": "code",
   "execution_count": 1,
   "metadata": {},
   "outputs": [],
   "source": [
    "import torch; torch.set_grad_enabled(False);"
   ]
  },
  {
   "cell_type": "markdown",
   "metadata": {},
   "source": [
    "# Model Initialization\n",
    "\n",
    "The model is a masked autoencoder. It is a transformer encoder-decoder architecture. The encoder encodes the visible tokens, and the decoder decodes the masked tokens by using the encoder outputs as inputs. The model is trained to predict the original points from the masked tokens. The workflow is as follows:\n",
    "\n",
    "1. Group & tokenize point cloud\n",
    "2. Mask 60% of tokens randomly\n",
    "3. Generate positional encodings for all centers\n",
    "3. Add positional encoding onto visible tokens\n",
    "4. Pass visible tokens only through encoder\n",
    "5. Create a set of masked tokens equal to a single learnable mask token repeated. Add positional encoding to each masked token to tell the decoder where the masked tokens are in space.\n",
    "6. Pass visible encoded tokens and masked tokens through decoder\n",
    "7. Index the masked tokens in the decoder output and regress patch points from them.\n",
    "8. Compare the regressed points to the ground truth points using Chamfer Distance from [`pytorch3d.loss.chamfer_distance`](https://pytorch3d.readthedocs.io/en/latest/modules/loss.html#pytorch3d.loss.chamfer_distance).\n",
    "\n",
    "The full Point-MAE (PoLAr-MAE) model is implemented in `polarmae/models/ssl/pointmae(polarmae).py`. Both files are < 200 lines of code, and so they are hopefully straightforward to understand.\n",
    "\n",
    "Below is the code for the PointMAE model. The magic is in the `compute_loss` method.\n",
    "\n",
    "---\n",
    "\n",
    "# pointmae.py"
   ]
  },
  {
   "cell_type": "code",
   "execution_count": 2,
   "metadata": {},
   "outputs": [],
   "source": [
    "from typing import Any, Dict, List, Optional, Tuple\n",
    "\n",
    "import pytorch_lightning as pl\n",
    "import torch\n",
    "import torch.nn as nn\n",
    "from pytorch3d.loss import chamfer_distance\n",
    "from math import sqrt\n",
    "\n",
    "from polarmae.models.ssl.base import SSLModel\n",
    "from polarmae.layers.encoder import TransformerEncoder\n",
    "from polarmae.layers.decoder import TransformerDecoder\n",
    "from polarmae.utils.pylogger import RankedLogger\n",
    "\n",
    "log = RankedLogger(__name__, rank_zero_only=True)\n",
    "\n",
    "\n",
    "class PointMAE(SSLModel):\n",
    "    def __init__(\n",
    "        self,\n",
    "        encoder: TransformerEncoder,  # requires already initialized TransformerEncoder\n",
    "        # this is taken care of by Pytorch Lightning if\n",
    "        # using the CLI-based training loop.\n",
    "        decoder: TransformerDecoder,  # requires already initialized TransformerDecoder\n",
    "        # learning hyperparameters\n",
    "        learning_rate: float = 1e-3,\n",
    "        optimizer_adamw_weight_decay: float = 0.05,\n",
    "        lr_scheduler_linear_warmup_epochs: int = 80,\n",
    "        lr_scheduler_linear_warmup_start_lr: float = 1e-6,\n",
    "        lr_scheduler_cosine_eta_min: float = 1e-6,\n",
    "        lr_scheduler_stepping: str = \"step\",\n",
    "        loss_weights: Dict[str, float] = {\"ae\": 0.0, \"chamfer\": 1.0},\n",
    "        # transformations and their parameters\n",
    "        # these are taken care of in the SSLModel base class via `super().configure_transformations()`\n",
    "        train_transformations: List[str] = [\"center_and_scale\", \"rotate\"],\n",
    "        val_transformations: List[str] = [\"center_and_scale\"],\n",
    "        transformation_center: torch.Tensor | List[float] | float = torch.tensor(\n",
    "            [768, 768, 768]\n",
    "        )\n",
    "        / 2,\n",
    "        transformation_scale_factor: torch.Tensor | List[float] | float = 1\n",
    "        / (768 * sqrt(3) / 2),\n",
    "        transformation_rotate_dims: Optional[List[int]] = [0, 1, 2],\n",
    "        transformation_rotate_degs: Optional[float] = None,\n",
    "        # svm validation\n",
    "        svm_validation: Dict[str, pl.LightningDataModule] = {},\n",
    "        svm_validation_C=0.005,  # C=0.012 copied from Point-M2AE code\n",
    "        svm_validation_max_tokens: int = 7500,\n",
    "        # misc\n",
    "        fix_estimated_stepping_batches: Optional[int] = None,  # multi GPU bug fix\n",
    "    ):\n",
    "        super().__init__()\n",
    "        self.save_hyperparameters()\n",
    "        super().configure_transformations()\n",
    "        self.hparams.svm_validation = svm_validation\n",
    "\n",
    "        self.encoder = encoder\n",
    "        self.decoder = decoder\n",
    "\n",
    "        # shared MLP that nominally goes from 384 --> 4x32, i.e., regressed a single patch from a token.\n",
    "        self.increase_dim = nn.Conv1d(\n",
    "            encoder.embed_dim,\n",
    "            encoder.num_channels * encoder.tokenizer.grouping.group_max_points,\n",
    "            1,\n",
    "        )\n",
    "\n",
    "        # learnable mask token\n",
    "        init_std = 0.02\n",
    "        self.mask_token = nn.Parameter(torch.zeros(encoder.embed_dim))\n",
    "        nn.init.trunc_normal_(\n",
    "            self.mask_token, mean=0, std=init_std, a=-init_std, b=init_std\n",
    "        )\n",
    "\n",
    "        # whether to add an autoencoding loss applied to unmasked visible tokens.\n",
    "        self.do_ae = loss_weights.get(\"ae\", 0) > 0\n",
    "\n",
    "    def compute_loss(\n",
    "        self, points: torch.Tensor, lengths: torch.Tensor\n",
    "    ) -> Dict[str, torch.Tensor]:\n",
    "        # encode toks\n",
    "        out = self.encoder.prepare_tokens_with_masks(points, lengths)\n",
    "        masked, unmasked = out[\"masked\"], out[\"unmasked\"]  #\n",
    "\n",
    "        # run visible tokens through encoder, paying attention to \n",
    "        # JUST the unmasked (visible) tokens\n",
    "        encoder_output = self.encoder(\n",
    "            out[\"x\"], out[\"pos_embed\"], unmasked\n",
    "        ).last_hidden_state\n",
    "\n",
    "        # corrupt embeddings with masked tokens\n",
    "        corrupted_embeddings = encoder_output * unmasked.unsqueeze(\n",
    "            -1\n",
    "        ) + self.mask_token * masked.unsqueeze(-1)\n",
    "\n",
    "        # pass corrupted embeddings through decoder, paying attention\n",
    "        # to ALL non-padded tokens\n",
    "        decoder_output = self.decoder(\n",
    "            corrupted_embeddings, out[\"pos_embed\"], out[\"emb_mask\"]\n",
    "        ).last_hidden_state\n",
    "\n",
    "        # Index the masked tokens in the decoder output.\n",
    "        masked_output = decoder_output[masked]\n",
    "\n",
    "        # Upscale the masked output to the original point cloud group size (32x4)\n",
    "        upscaled = self.increase_dim(masked_output.transpose(0, 1)).transpose(0, 1)\n",
    "        upscaled = upscaled.reshape(upscaled.shape[0], -1, self.encoder.num_channels)\n",
    "\n",
    "        # Get the ground truth groups and point lengths for the masked tokens.\n",
    "        masked_groups = out[\"groups\"][masked]\n",
    "        point_lengths = out[\"point_mask\"][masked].sum(-1)\n",
    "\n",
    "        # Compute the Chamfer Distance between the upscaled masked output and the ground truth groups.\n",
    "        chamfer_loss, _ = chamfer_distance(\n",
    "            upscaled.float(),\n",
    "            masked_groups.float(),\n",
    "            x_lengths=point_lengths,\n",
    "            y_lengths=point_lengths,\n",
    "        )\n",
    "\n",
    "        # Do the same exercise for the unmasked tokens if we want an autoencoding loss.\n",
    "        ae_loss = 0\n",
    "        if self.do_ae:\n",
    "            upscaled_unmasked = self.increase_dim(\n",
    "                encoder_output.transpose(0, 1)\n",
    "            ).transpose(0, 1)\n",
    "            upscaled_unmasked = upscaled_unmasked.reshape(\n",
    "                upscaled_unmasked.shape[0], -1, self.encoder.num_channels\n",
    "            )\n",
    "            unmasked_groups = out[\"groups\"][unmasked]\n",
    "            unmasked_point_lengths = out[\"point_mask\"][unmasked].sum(-1)\n",
    "            ae_loss, _ = chamfer_distance(\n",
    "                upscaled_unmasked.float(),\n",
    "                unmasked_groups.float(),\n",
    "                x_lengths=unmasked_point_lengths,\n",
    "                y_lengths=unmasked_point_lengths,\n",
    "            )\n",
    "        return {\"chamfer\": chamfer_loss, \"ae\": ae_loss}\n",
    "\n",
    "    def training_step(self, batch, batch_idx: int) -> torch.Tensor:\n",
    "        points = batch[\"points\"]\n",
    "        lengths = batch[\"lengths\"]\n",
    "        points = self.train_transformations(points)\n",
    "        loss_dict = self.compute_loss(points, lengths)\n",
    "        self.log_losses(loss_dict, prefix=\"loss/train_\")\n",
    "        loss = sum(\n",
    "            loss_dict[k] * self.hparams.loss_weights.get(k, 1.0)\n",
    "            for k in loss_dict.keys()\n",
    "        )\n",
    "        self.log(\n",
    "            \"loss/train\",\n",
    "            loss,\n",
    "            sync_dist=True,\n",
    "            on_epoch=True,\n",
    "            on_step=True,\n",
    "            prog_bar=True,\n",
    "        )\n",
    "        return loss\n",
    "\n",
    "    def validation_step(self, batch, batch_idx: int) -> torch.Tensor:\n",
    "        points = batch[\"points\"]\n",
    "        lengths = batch[\"lengths\"]\n",
    "        points = self.val_transformations(points)\n",
    "        loss_dict = self.compute_loss(points, lengths)\n",
    "        self.log_losses(loss_dict, prefix=\"loss/val_\")\n",
    "        loss = sum(\n",
    "            loss_dict[k] * self.hparams.loss_weights.get(k, 1.0)\n",
    "            for k in loss_dict.keys()\n",
    "        )\n",
    "        self.log(\"loss/val\", loss, sync_dist=True, on_epoch=True, on_step=False)\n",
    "        return loss"
   ]
  },
  {
   "cell_type": "markdown",
   "metadata": {},
   "source": [
    "The `parse_config` function in `polarmae.utils` is used to parse the configuration file for the PointMAE model. This function reads in the YAML configuration file and automatically instantiates any classes that are defined in the configuration file (for example the encoder and decoder).\n",
    "\n",
    "This is necessary, as the PointMAE python class requires the encoder and decoder to be initialized before it can be instantiated. This is needed for working outside of the CLI-based training loop (i.e. in a notebook)."
   ]
  },
  {
   "cell_type": "code",
   "execution_count": 3,
   "metadata": {},
   "outputs": [
    {
     "name": "stderr",
     "output_type": "stream",
     "text": [
      "/sdf/home/y/youngsam/sw/dune/.conda/envs/py310_torch/lib/python3.12/site-packages/pytorch_lightning/utilities/parsing.py:209: Attribute 'encoder' is an instance of `nn.Module` and is already saved during checkpointing. It is recommended to ignore them using `self.save_hyperparameters(ignore=['encoder'])`.\n",
      "/sdf/home/y/youngsam/sw/dune/.conda/envs/py310_torch/lib/python3.12/site-packages/pytorch_lightning/utilities/parsing.py:209: Attribute 'decoder' is an instance of `nn.Module` and is already saved during checkpointing. It is recommended to ignore them using `self.save_hyperparameters(ignore=['decoder'])`.\n"
     ]
    }
   ],
   "source": [
    "from polarmae.utils import parse_config\n",
    "\n",
    "cfg = parse_config(\"../configs/pointmae.yml\")\n",
    "\n",
    "model = PointMAE(**cfg[\"model\"])"
   ]
  },
  {
   "cell_type": "markdown",
   "metadata": {},
   "source": [
    "# A single forward pass.\n",
    "\n",
    "Let's go through a single forward pass of the PointMAE model, from batch input to the final loss computation."
   ]
  },
  {
   "cell_type": "code",
   "execution_count": 4,
   "metadata": {},
   "outputs": [
    {
     "name": "stderr",
     "output_type": "stream",
     "text": [
      "INFO:polarmae.datasets.PILArNet:[rank: 0] self.emin=0.01, self.emax=20.0, self.energy_threshold=0.13, self.remove_low_energy_scatters=True\n",
      "INFO:polarmae.datasets.PILArNet:[rank: 0] Building index\n",
      "INFO:polarmae.datasets.PILArNet:[rank: 0] 1045215 point clouds were loaded\n",
      "INFO:polarmae.datasets.PILArNet:[rank: 0] 10 files were loaded\n",
      "INFO:polarmae.datasets.PILArNet:[rank: 0] self.emin=0.01, self.emax=20.0, self.energy_threshold=0.13, self.remove_low_energy_scatters=True\n",
      "INFO:polarmae.datasets.PILArNet:[rank: 0] Building index\n",
      "INFO:polarmae.datasets.PILArNet:[rank: 0] 10473 point clouds were loaded\n",
      "INFO:polarmae.datasets.PILArNet:[rank: 0] 1 files were loaded\n"
     ]
    }
   ],
   "source": [
    "dataloader = cfg['data'].train_dataloader()\n",
    "\n",
    "batch = next(iter(dataloader))\n",
    "\n",
    "model = model.cuda()\n",
    "points = batch[\"points\"].cuda()\n",
    "lengths = batch[\"lengths\"].cuda()\n",
    "\n",
    "# Apply transformations (important! performs centering and scaling)\n",
    "points = model.train_transformations(points)\n",
    "\n",
    "# Group + tokenize + mask tokens\n",
    "out = model.encoder.prepare_tokens_with_masks(points, lengths)"
   ]
  },
  {
   "cell_type": "markdown",
   "metadata": {},
   "source": [
    "As we saw in `01_tokenization.ipynb`, the `prepare_tokens_with_masks` method returns a dictionary with the following keys:\n",
    "- `x` (B, T, C): tokens\n",
    "- `centers` (B, T, 3): centers of the points\n",
    "- `emb_mask` (B, T): mask for the tokens\n",
    "- `groups` (B, T, 32, 4): groups of the points\n",
    "- `point_mask` (B, T): mask for the points\n",
    "- `pos_embed` (B, T, C): positional encodings for the points\n",
    "\n",
    "among other things for use down the line. Here, B is the batch size, T is the number of tokens, and C is the number of embedding channels.\n",
    "\n",
    "What is actally happening in the masking step, though? Let's take a look at the `masked` and `unmasked` masks for the entire batch."
   ]
  },
  {
   "cell_type": "code",
   "execution_count": 5,
   "metadata": {},
   "outputs": [
    {
     "data": {
      "image/png": "[encoded data removed]",
      "text/plain": [
       "<Figure size 1500x600 with 4 Axes>"
      ]
     },
     "metadata": {},
     "output_type": "display_data"
    }
   ],
   "source": [
    "import matplotlib.pyplot as plt\n",
    "\n",
    "masked, unmasked = out['masked'], out['unmasked']\n",
    "embedding_mask = out['emb_mask']\n",
    "\n",
    "# plot masked and unmasked masks for first event side by side in same figure\n",
    "fig, (ax1, ax2, ax3) = plt.subplots(1, 3, figsize=(15, 6))\n",
    "\n",
    "ax1.imshow(masked.cpu().numpy(), aspect='auto', cmap='gray_r', interpolation='none')\n",
    "ax1.set_title('Masked')\n",
    "\n",
    "ax2.imshow(unmasked.cpu().numpy(), aspect='auto', cmap='gray_r', interpolation='none')\n",
    "ax2.set_title('Unmasked')\n",
    "\n",
    "ax3.imshow(embedding_mask.cpu().numpy(), aspect='auto', cmap='gray_r', interpolation='none')\n",
    "ax3.set_title('Masked + Unmasked')\n",
    "\n",
    "cbar = fig.colorbar(ax3.images[0], ax=[ax1, ax2, ax3])\n",
    "cbar.set_label('Mask')\n",
    "\n",
    "ax1.set_xlabel('Token Index')\n",
    "ax1.set_ylabel('Event ID in batch')\n",
    "ax2.set_xlabel('Token Index')\n",
    "ax2.set_ylabel('Event ID in batch')\n",
    "ax3.set_xlabel('Token Index')\n",
    "ax3.set_ylabel('Event ID in batch')\n",
    "plt.show()"
   ]
  },
  {
   "cell_type": "markdown",
   "metadata": {},
   "source": [
    "\n",
    "As you can see, `emb_mask = masked | unmasked`, or the total embedding mask is the union of the masked and unmasked masks.\n",
    "\n",
    "So the masking operation is done on a per-event basis. Given the total number of tokens in an an event (which is variable within a batch), 60% of the tokens are randomly masked, while the rest are unmasked. The transformers in this repository have been modified to handle these masks directly, creating attention masks on the fly to ensure the encoder only attends to the tokens with values of 1 in the input mask.\n",
    "\n",
    "With that being said, we can now just pass these values through the encoder / decoder. The encoder output a `TranformerOutput` object, which contains at least the last hidden state of the encoder (i.e. the final output), but can contain things like the hidden states of all the layers, the attentions, etc. These additional items are optional and accessed via additional keyword arguments for the transformer forward. To get the last hidden state, we can do the following:"
   ]
  },
  {
   "cell_type": "code",
   "execution_count": 6,
   "metadata": {},
   "outputs": [
    {
     "name": "stdout",
     "output_type": "stream",
     "text": [
      "Encoder Output Shape: torch.Size([32, 365, 384])\n",
      "Decoder Output Shape: torch.Size([32, 365, 384])\n",
      "Decoded Masked Tokens Shape: torch.Size([3698, 384])\n"
     ]
    }
   ],
   "source": [
    "encoder_output = model.encoder(\n",
    "    out[\"x\"], out[\"pos_embed\"], out[\"unmasked\"]\n",
    ").last_hidden_state\n",
    "\n",
    "print('Encoder Output Shape:', encoder_output.shape)\n",
    "\n",
    "# Fancy trick that replaces all of masked tokens with the learnable mask token but leaves\n",
    "# the unmasked tokens unchanged.\n",
    "corrupted_embeddings = (\n",
    "    encoder_output * out[\"unmasked\"].unsqueeze(-1) +\n",
    "    model.mask_token * out[\"masked\"].unsqueeze(-1)\n",
    ")\n",
    "\n",
    "# Run through decoder, attending to all non-padded tokens.\n",
    "decoder_output = model.decoder(\n",
    "    corrupted_embeddings, out[\"pos_embed\"], out[\"emb_mask\"]\n",
    ").last_hidden_state\n",
    "\n",
    "print('Decoder Output Shape:', decoder_output.shape)\n",
    "\n",
    "decoded_masked_tokens = decoder_output[out[\"masked\"]]\n",
    "\n",
    "print('Decoded Masked Tokens Shape:', decoded_masked_tokens.shape)"
   ]
  },
  {
   "cell_type": "markdown",
   "metadata": {},
   "source": [
    "With the decoder output, we can now regress the decoded masked tokens to their original point groups, and compare them via the Chamfer distance. `increase_dim` is a `Conv1d` layer that takes the decoder output and upscales it to the original point group size. Because it's a convolution, we need to transpose the decoder output to have a batch dimension on the last dimension, and then transpose once again after the convolution."
   ]
  },
  {
   "cell_type": "code",
   "execution_count": 7,
   "metadata": {},
   "outputs": [
    {
     "name": "stdout",
     "output_type": "stream",
     "text": [
      "Regressed Points Shape: torch.Size([3698, 128])\n",
      "Regressed Points Shape: torch.Size([3698, 32, 4])\n"
     ]
    }
   ],
   "source": [
    "regressed_points = model.increase_dim(decoded_masked_tokens.transpose(0, 1)).transpose(\n",
    "    0, 1\n",
    ")\n",
    "\n",
    "print('Regressed Points Shape:', regressed_points.shape)\n",
    "\n",
    "# Reshape to the point group size (32x4)\n",
    "regressed_points = regressed_points.reshape(\n",
    "    regressed_points.shape[0], -1, model.encoder.num_channels\n",
    ")\n",
    "\n",
    "print('Regressed Points Shape:', regressed_points.shape)"
   ]
  },
  {
   "cell_type": "markdown",
   "metadata": {},
   "source": [
    "We now have the regressed points and the ground truth points. We can now compute the Chamfer Distance between the two. However, since the patches contain a variable number of points, we need to pass the actual lengths of each patch to the Chamfer Distance function, so we don't compute the loss on the padded points."
   ]
  },
  {
   "cell_type": "code",
   "execution_count": 8,
   "metadata": {},
   "outputs": [
    {
     "name": "stdout",
     "output_type": "stream",
     "text": [
      "tensor(0.5112, device='cuda:0')\n"
     ]
    }
   ],
   "source": [
    "from pytorch3d.loss import chamfer_distance\n",
    "\n",
    "truth_masked_groups = out[\"groups\"][masked]\n",
    "truth_point_lengths = out[\"point_mask\"][masked].sum(-1)\n",
    "\n",
    "chamfer_loss, _ = chamfer_distance(\n",
    "    regressed_points,\n",
    "    truth_masked_groups,\n",
    "    x_lengths=truth_point_lengths,\n",
    "    y_lengths=truth_point_lengths,\n",
    ")\n",
    "\n",
    "print(chamfer_loss)"
   ]
  },
  {
   "cell_type": "markdown",
   "metadata": {},
   "source": [
    "# Validation"
   ]
  },
  {
   "cell_type": "markdown",
   "metadata": {},
   "source": [
    "A decent training metric to use to see if the encoder is learning good representations is to use a Support Vector Machine (SVM) to classify the tokens into different semantic classes.\n",
    "\n",
    "The workflow is esssentially to:\n",
    "\n",
    "1. Tokenize point cloud as usual.\n",
    "2. Look at the semantic IDs of grouped points, make a sum of one-hot vectors for each group. Our training labels will be this checking if this sum is >0 for each semantic class.\n",
    "3. Pass all tokens through the encoder (i.e., do no masking).\n",
    "4. Train an ensemble of class-specific SVMs to classify the tokens as containing the different semantic classes.\n",
    "5. Log the training and validation accuracy of the SVM.\n",
    "\n",
    "This is implemented in the base `SSLModel` class in `polarmae/models/ssl/base.py`, as we assume any SSL model will want to use this metric for comparison.\n",
    "\n",
    "This is automatically done at every `val_check_interval` training iterations in the `trainer` part of the configuration file."
   ]
  },
  {
   "cell_type": "code",
   "execution_count": 10,
   "metadata": {},
   "outputs": [
    {
     "data": {
      "text/plain": [
       "(torch.Size([15000, 384]),\n",
       " torch.Size([15000, 4]),\n",
       " torch.Size([15000, 384]),\n",
       " torch.Size([15000, 4]))"
      ]
     },
     "execution_count": 10,
     "metadata": {},
     "output_type": "execute_result"
    }
   ],
   "source": [
    "# Max number of tokens to use for training/validation\n",
    "# SVMs take a long time to train, so we limit the number of tokens used\n",
    "# to something like 15k tokens.\n",
    "max_tokens: int = model.hparams.svm_validation_max_tokens  # type: ignore\n",
    "\n",
    "def xy(dataloader):\n",
    "    x_list = []\n",
    "    label_list = []\n",
    "\n",
    "    total = (\n",
    "        max_tokens\n",
    "        // (\n",
    "            model.encoder.tokenizer.grouping.group_max_points\n",
    "            * dataloader.batch_size\n",
    "        )\n",
    "        if max_tokens is not None\n",
    "        else None\n",
    "    )\n",
    "    num_labels = cfg['data'].num_seg_classes\n",
    "\n",
    "    for i, batch in enumerate(dataloader):\n",
    "        data = batch['points'].cuda()\n",
    "        lengths = batch['lengths'].cuda()\n",
    "        labels_batch = batch['semantic_id'].cuda()\n",
    "        with torch.no_grad():\n",
    "\n",
    "            # Tokenize the points\n",
    "            out = model.encoder.prepare_tokens_with_masks(data, lengths, ids=labels_batch)\n",
    "\n",
    "            # Pass through encoder & flatten across batches\n",
    "            x = model.encoder.transformer(out['x'], out['pos_embed'], out['emb_mask']).last_hidden_state.reshape(-1, model.encoder.embed_dim)\n",
    "\n",
    "            # Get the semantic IDs for each group\n",
    "            semantic_ids = out['id_groups'].reshape(-1, out['id_groups'].shape[2])\n",
    "\n",
    "            # here we do a vectorized computation to count the amount of each semantic ID per token,\n",
    "            # and then make multi-class labels as 1 if the count in each class is greater than 0.\n",
    "            N = semantic_ids.shape[0]  # number of groups\n",
    "            D = semantic_ids.shape[1]  # numer of semantic IDs per group\n",
    "\n",
    "            group_indices = torch.arange(N, device=semantic_ids.device).unsqueeze(1).expand(-1, D)  # Shape: (N, D)\n",
    "            semantic_ids_flat = semantic_ids.reshape(-1)\n",
    "            group_indices_flat = group_indices.reshape(-1)\n",
    "            valid_mask = semantic_ids_flat != -1\n",
    "            semantic_ids_valid = semantic_ids_flat[valid_mask]  # Shape: (K,)\n",
    "            group_indices_valid = group_indices_flat[valid_mask]  # Shape: (K,)\n",
    "            counts = torch.zeros((N, num_labels), dtype=torch.int64, device=semantic_ids.device)\n",
    "            counts.index_add_(0, group_indices_valid, torch.nn.functional.one_hot(semantic_ids_valid, num_classes=num_labels).to(torch.int64))\n",
    "            y = (counts>0).long() # Shape: (N, num_labels)\n",
    "            mask_flat = out['emb_mask'].reshape(-1)\n",
    "            x = x[mask_flat]\n",
    "            y = y[mask_flat]\n",
    "            x_list.append(x.cpu())\n",
    "            label_list.append(y.cpu())\n",
    "            if total is not None and i >= total:\n",
    "                break\n",
    "\n",
    "    x = torch.cat(x_list, dim=0)[:max_tokens]\n",
    "    y = torch.cat(label_list, dim=0)[:max_tokens]\n",
    "    return x, y\n",
    "\n",
    "x_train, y_train = xy(cfg['data'].train_dataloader())\n",
    "x_val, y_val = xy(cfg['data'].val_dataloader())\n",
    "x_train.shape, y_train.shape, x_val.shape, y_val.shape"
   ]
  },
  {
   "cell_type": "markdown",
   "metadata": {},
   "source": [
    "We train a One-vs-Rest SVM to classify the tokens into containing different semantic classes. To speed up training, we use PCA to reduce the dimensionality of the token embeddings from 384 to 128 dimensions."
   ]
  },
  {
   "cell_type": "code",
   "execution_count": null,
   "metadata": {},
   "outputs": [],
   "source": [
    "from sklearn.svm import LinearSVC\n",
    "from sklearn.multiclass import OneVsRestClassifier\n",
    "from sklearn.decomposition import PCA\n",
    "from sklearn.metrics import classification_report\n",
    "from pprint import pprint\n",
    "\n",
    "# PCA down to 128 dimensions\n",
    "pca = PCA(n_components=128)\n",
    "x_train = pca.fit_transform(x_train)\n",
    "x_val = pca.transform(x_val)\n",
    "svm_C: float = model.hparams.svm_validation_C  # type: ignore\n",
    "svm = OneVsRestClassifier(\n",
    "    LinearSVC(C=svm_C, class_weight=\"balanced\", random_state=0), n_jobs=y_train.shape[1]\n",
    ")\n",
    "svm.fit(x_train, y_train)  # type: ignore\n",
    "train_report = classification_report(y_train, svm.predict(x_train), output_dict=False)\n",
    "val_report = classification_report(y_val, svm.predict(x_val), output_dict=False)"
   ]
  },
  {
   "cell_type": "code",
   "execution_count": 22,
   "metadata": {},
   "outputs": [
    {
     "name": "stdout",
     "output_type": "stream",
     "text": [
      "              precision    recall  f1-score   support\n",
      "\n",
      "           0       0.40      0.47      0.44      5065\n",
      "           1       0.67      0.62      0.65      9422\n",
      "           2       0.01      0.07      0.01       143\n",
      "           3       0.03      0.39      0.05       370\n",
      "\n",
      "   micro avg       0.39      0.56      0.46     15000\n",
      "   macro avg       0.28      0.39      0.29     15000\n",
      "weighted avg       0.56      0.56      0.55     15000\n",
      " samples avg       0.45      0.56      0.48     15000\n",
      "\n",
      "ID definitions: {0: 'shower', 1: 'track', 2: 'michel', 3: 'delta'}\n"
     ]
    }
   ],
   "source": [
    "print(val_report)\n",
    "print(\"ID definitions:\", cfg[\"data\"].seg_class_to_category)"
   ]
  },
  {
   "cell_type": "markdown",
   "metadata": {},
   "source": [
    "\n",
    "Pretty bad! This is of course the starting point of the model. The fully trained model gives much better results :-)\n",
    "___\n",
    "\n",
    "This ends the tutorial on model training. I would encourage looking in `polarmae/models/ssl/polarmae.py` and see the changes made there. It's also less than 200 lines of code, so it should be easy to understand if this notebook makes sense."
   ]
  }
 ],
 "metadata": {
  "kernelspec": {
   "display_name": "py310_torch",
   "language": "python",
   "name": "python3"
  },
  "language_info": {
   "codemirror_mode": {
    "name": "ipython",
    "version": 3
   },
   "file_extension": ".py",
   "mimetype": "text/x-python",
   "name": "python",
   "nbconvert_exporter": "python",
   "pygments_lexer": "ipython3",
   "version": "3.12.8"
  }
 },
 "nbformat": 4,
 "nbformat_minor": 2
}
